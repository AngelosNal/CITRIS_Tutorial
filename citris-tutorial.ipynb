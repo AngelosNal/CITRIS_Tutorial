{
 "cells": [
  {
   "attachments": {},
   "cell_type": "markdown",
   "metadata": {},
   "source": [
    "# Structure\n",
    "\n",
    "- What the nb is about (Danilo)\n",
    "- Motivating CRL (what is CRL, why we need causal representations, how do we obtain them)\n",
    "- Describing Interventions-Datasets (print itnerventions and matplot some images) (Angelos)\n",
    "- CITRIS-VAE (and later perhaps NF and explain NFs with some refs)\n",
    "- Introduce objective and describe notation\n",
    "- load pretrained citris and \n",
    "    (1) show R2 matrix, and \n",
    "    (2) go with the triplet set (i.e. fig 7) \n",
    "    (3) add noise to color (eg) and plot both images"
   ]
  },
  {
   "attachments": {},
   "cell_type": "markdown",
   "metadata": {},
   "source": [
    "# CITRIS: Causal Identifiability from Temporal Intervened Sequences"
   ]
  },
  {
   "attachments": {},
   "cell_type": "markdown",
   "metadata": {},
   "source": [
    "# Causal Representation Learning"
   ]
  },
  {
   "attachments": {},
   "cell_type": "markdown",
   "metadata": {},
   "source": [
    "# Temporal Intervened Sequences "
   ]
  },
  {
   "attachments": {},
   "cell_type": "markdown",
   "metadata": {},
   "source": [
    "# Causal3DIdent"
   ]
  },
  {
   "cell_type": "code",
   "execution_count": null,
   "metadata": {},
   "outputs": [],
   "source": [
    "import os\n",
    "import sys\n",
    "import numpy as np\n",
    "import random\n",
    "import matplotlib.pyplot as plt\n",
    "\n",
    "\n",
    "\n",
    "## Imports for plotting\n",
    "\n",
    "\n",
    "## PyTorch\n",
    "import torch\n",
    "import torch.nn as nn\n",
    "\n",
    "# Import CITRIS-VAE\n",
    "sys.path.append('CITRIS')\n",
    "from pytorch_lightning import LightningModule\n",
    "# from CITRIS.models.citris_vae import CITRISVAE\n",
    "from CITRIS.models.citris_nf import CITRISNF"
   ]
  },
  {
   "attachments": {},
   "cell_type": "markdown",
   "metadata": {},
   "source": [
    "Now we will look into the Causal3DIdent dataset. It contains a sequence of images with the intervention targets at each time-step. In the below cell, we will load a small sample of the dataset."
   ]
  },
  {
   "cell_type": "code",
   "execution_count": 4,
   "metadata": {},
   "outputs": [
    {
     "name": "stdout",
     "output_type": "stream",
     "text": [
      "dict_keys(['images', 'interventions'])\n"
     ]
    }
   ],
   "source": [
    "causal3d_dataset = dict(np.load('causal3d.npz'))\n",
    "print(causal3d_dataset.keys())"
   ]
  },
  {
   "attachments": {},
   "cell_type": "markdown",
   "metadata": {},
   "source": [
    "The intervention targets delcare what causal variables were intervened. In Causal3DIdent, we have 12 causal variables: x_position, y_position, z_position, alpha_rotation, beta_rotation, gamma_rotation, theta_spot_light, hue_object, hue_spot_light, hue_background, shape and material. Below you can see what causal variables were intervened at each time-step. The i-th intervention targets imply that the causal variables of the (i-1)-th image were intervened, resulting in the i-th image."
   ]
  },
  {
   "cell_type": "code",
   "execution_count": null,
   "metadata": {},
   "outputs": [],
   "source": [
    "time_steps = 4\n",
    "print(causal3d_dataset['interventions'][0:time_steps])"
   ]
  },
  {
   "attachments": {},
   "cell_type": "markdown",
   "metadata": {},
   "source": [
    "In the next cell, we will plot a sequence of images. Note how the intervention targets, printed above, affect the object and the surrounding environment."
   ]
  },
  {
   "cell_type": "code",
   "execution_count": null,
   "metadata": {},
   "outputs": [],
   "source": [
    "plt.rcParams['figure.figsize'] = [10, 5]\n",
    "for i in range(time_steps):\n",
    "    plt.subplot(1, time_steps, i+1)\n",
    "    plt.imshow(causal3d_dataset['images'][i])\n",
    "    plt.xticks([])\n",
    "    plt.yticks([])\n",
    "plt.show()"
   ]
  },
  {
   "attachments": {},
   "cell_type": "markdown",
   "metadata": {},
   "source": [
    "# CITRIS-VAE"
   ]
  },
  {
   "attachments": {},
   "cell_type": "markdown",
   "metadata": {},
   "source": [
    "# CITRIS-NF"
   ]
  },
  {
   "attachments": {},
   "cell_type": "markdown",
   "metadata": {},
   "source": [
    "# "
   ]
  },
  {
   "cell_type": "code",
   "execution_count": 3,
   "metadata": {},
   "outputs": [
    {
     "name": "stdout",
     "output_type": "stream",
     "text": [
      "Found pretrained model at ./citris.ckpt, loading...\n"
     ]
    },
    {
     "ename": "AttributeError",
     "evalue": "'NoneType' object has no attribute 'hparams'",
     "output_type": "error",
     "traceback": [
      "\u001b[0;31m---------------------------------------------------------------------------\u001b[0m",
      "\u001b[0;31mAttributeError\u001b[0m                            Traceback (most recent call last)",
      "\u001b[1;32m/home/danilo/Documents/ta/DL2/CITRIS_Tutorial/citris-tutorial.ipynb Cell 18\u001b[0m in \u001b[0;36m<cell line: 6>\u001b[0;34m()\u001b[0m\n\u001b[1;32m      <a href='vscode-notebook-cell:/home/danilo/Documents/ta/DL2/CITRIS_Tutorial/citris-tutorial.ipynb#W4sZmlsZQ%3D%3D?line=5'>6</a>\u001b[0m \u001b[39mif\u001b[39;00m os\u001b[39m.\u001b[39mpath\u001b[39m.\u001b[39misfile(pretrained_CITRIS_path):\n\u001b[1;32m      <a href='vscode-notebook-cell:/home/danilo/Documents/ta/DL2/CITRIS_Tutorial/citris-tutorial.ipynb#W4sZmlsZQ%3D%3D?line=6'>7</a>\u001b[0m     \u001b[39mprint\u001b[39m(\u001b[39mf\u001b[39m\u001b[39m\"\u001b[39m\u001b[39mFound pretrained model at \u001b[39m\u001b[39m{\u001b[39;00mpretrained_CITRIS_path\u001b[39m}\u001b[39;00m\u001b[39m, loading...\u001b[39m\u001b[39m\"\u001b[39m)\n\u001b[0;32m----> <a href='vscode-notebook-cell:/home/danilo/Documents/ta/DL2/CITRIS_Tutorial/citris-tutorial.ipynb#W4sZmlsZQ%3D%3D?line=7'>8</a>\u001b[0m     model \u001b[39m=\u001b[39m CITRISNF\u001b[39m.\u001b[39;49mload_from_checkpoint(pretrained_CITRIS_path)\n",
      "File \u001b[0;32m~/miniconda3/envs/citris/lib/python3.8/site-packages/pytorch_lightning/core/saving.py:161\u001b[0m, in \u001b[0;36mModelIO.load_from_checkpoint\u001b[0;34m(cls, checkpoint_path, map_location, hparams_file, strict, **kwargs)\u001b[0m\n\u001b[1;32m    158\u001b[0m \u001b[39m# override the hparams with values that were passed in\u001b[39;00m\n\u001b[1;32m    159\u001b[0m checkpoint[\u001b[39mcls\u001b[39m\u001b[39m.\u001b[39mCHECKPOINT_HYPER_PARAMS_KEY]\u001b[39m.\u001b[39mupdate(kwargs)\n\u001b[0;32m--> 161\u001b[0m model \u001b[39m=\u001b[39m \u001b[39mcls\u001b[39;49m\u001b[39m.\u001b[39;49m_load_model_state(checkpoint, strict\u001b[39m=\u001b[39;49mstrict, \u001b[39m*\u001b[39;49m\u001b[39m*\u001b[39;49mkwargs)\n\u001b[1;32m    162\u001b[0m \u001b[39mreturn\u001b[39;00m model\n",
      "File \u001b[0;32m~/miniconda3/envs/citris/lib/python3.8/site-packages/pytorch_lightning/core/saving.py:203\u001b[0m, in \u001b[0;36mModelIO._load_model_state\u001b[0;34m(cls, checkpoint, strict, **cls_kwargs_new)\u001b[0m\n\u001b[1;32m    199\u001b[0m \u001b[39mif\u001b[39;00m \u001b[39mnot\u001b[39;00m cls_spec\u001b[39m.\u001b[39mvarkw:\n\u001b[1;32m    200\u001b[0m     \u001b[39m# filter kwargs according to class init unless it allows any argument via kwargs\u001b[39;00m\n\u001b[1;32m    201\u001b[0m     _cls_kwargs \u001b[39m=\u001b[39m {k: v \u001b[39mfor\u001b[39;00m k, v \u001b[39min\u001b[39;00m _cls_kwargs\u001b[39m.\u001b[39mitems() \u001b[39mif\u001b[39;00m k \u001b[39min\u001b[39;00m cls_init_args_name}\n\u001b[0;32m--> 203\u001b[0m model \u001b[39m=\u001b[39m \u001b[39mcls\u001b[39;49m(\u001b[39m*\u001b[39;49m\u001b[39m*\u001b[39;49m_cls_kwargs)\n\u001b[1;32m    205\u001b[0m \u001b[39m# give model a chance to load something\u001b[39;00m\n\u001b[1;32m    206\u001b[0m model\u001b[39m.\u001b[39mon_load_checkpoint(checkpoint)\n",
      "File \u001b[0;32m~/Documents/ta/DL2/CITRIS_Tutorial/CITRIS/models/citris_nf/lightning_module.py:76\u001b[0m, in \u001b[0;36mCITRISNF.__init__\u001b[0;34m(self, autoencoder_checkpoint, num_flows, hidden_per_var, num_samples, flow_act_fn, noise_level, *args, **kwargs)\u001b[0m\n\u001b[1;32m     74\u001b[0m     p\u001b[39m.\u001b[39mrequires_grad_(\u001b[39mFalse\u001b[39;00m)\n\u001b[1;32m     75\u001b[0m \u001b[39massert\u001b[39;00m \u001b[39mself\u001b[39m\u001b[39m.\u001b[39mhparams\u001b[39m.\u001b[39mnum_latents \u001b[39m==\u001b[39m \u001b[39mself\u001b[39m\u001b[39m.\u001b[39mautoencoder\u001b[39m.\u001b[39mhparams\u001b[39m.\u001b[39mnum_latents, \u001b[39m'\u001b[39m\u001b[39mAutoencoder and flow need to have the same number of latents\u001b[39m\u001b[39m'\u001b[39m\n\u001b[0;32m---> 76\u001b[0m \u001b[39massert\u001b[39;00m \u001b[39mself\u001b[39m\u001b[39m.\u001b[39mautoencoder\u001b[39m.\u001b[39mhparams\u001b[39m.\u001b[39mimg_width \u001b[39m==\u001b[39m \u001b[39mself\u001b[39;49m\u001b[39m.\u001b[39;49mcausal_encoder\u001b[39m.\u001b[39;49mhparams\u001b[39m.\u001b[39mimg_width, \u001b[39m'\u001b[39m\u001b[39mAutoencoder and Causal Encoder need to have the same image dimensions.\u001b[39m\u001b[39m'\u001b[39m\n\u001b[1;32m     78\u001b[0m \u001b[39mif\u001b[39;00m \u001b[39mself\u001b[39m\u001b[39m.\u001b[39mhparams\u001b[39m.\u001b[39mnoise_level \u001b[39m<\u001b[39m \u001b[39m0.0\u001b[39m:\n\u001b[1;32m     79\u001b[0m     \u001b[39mself\u001b[39m\u001b[39m.\u001b[39mhparams\u001b[39m.\u001b[39mnoise_level \u001b[39m=\u001b[39m \u001b[39mself\u001b[39m\u001b[39m.\u001b[39mautoencoder\u001b[39m.\u001b[39mhparams\u001b[39m.\u001b[39mnoise_level\n",
      "\u001b[0;31mAttributeError\u001b[0m: 'NoneType' object has no attribute 'hparams'"
     ]
    }
   ],
   "source": [
    "CHECKPOINT_PATH = \"./\"\n",
    "\n",
    "pretrained_CITRIS_path = os.path.join(CHECKPOINT_PATH, \"citris\" + \".ckpt\")\n",
    "\n",
    "\n",
    "if os.path.isfile(pretrained_CITRIS_path):\n",
    "    print(f\"Found pretrained model at {pretrained_CITRIS_path}, loading...\")\n",
    "    model = CITRISNF.load_from_checkpoint(pretrained_CITRIS_path)"
   ]
  },
  {
   "cell_type": "code",
   "execution_count": null,
   "metadata": {},
   "outputs": [],
   "source": []
  }
 ],
 "metadata": {
  "kernelspec": {
   "display_name": "citris",
   "language": "python",
   "name": "python3"
  },
  "language_info": {
   "codemirror_mode": {
    "name": "ipython",
    "version": 3
   },
   "file_extension": ".py",
   "mimetype": "text/x-python",
   "name": "python",
   "nbconvert_exporter": "python",
   "pygments_lexer": "ipython3",
   "version": "3.8.15"
  },
  "orig_nbformat": 4
 },
 "nbformat": 4,
 "nbformat_minor": 2
}
